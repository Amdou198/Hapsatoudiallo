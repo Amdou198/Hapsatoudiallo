{
 "cells": [
  {
   "cell_type": "markdown",
   "id": "05b7fe33-47c0-4b1a-b290-0e64c41cd575",
   "metadata": {},
   "source": [
    "les bibliotheque necessaires pour l'analyse textuelle"
   ]
  },
  {
   "cell_type": "code",
   "execution_count": 235,
   "id": "369c7018-a820-4ed2-9c23-21510c90f3bc",
   "metadata": {},
   "outputs": [],
   "source": [
    "import os, sys, time\n",
    "import pandas as pd\n",
    "import numpy as np\n",
    "import seaborn as sns\n",
    "import matplotlib.pyplot as plt"
   ]
  },
  {
   "cell_type": "code",
   "execution_count": 237,
   "id": "238b6253-a303-4e46-b9f8-ef09a6d63bf0",
   "metadata": {},
   "outputs": [],
   "source": [
    "sns.set()"
   ]
  },
  {
   "cell_type": "code",
   "execution_count": 239,
   "id": "3601159d-b4da-4f42-bc0b-17b95d711b9b",
   "metadata": {},
   "outputs": [],
   "source": [
    "df = pd.read_csv('train.csv')"
   ]
  },
  {
   "cell_type": "code",
   "execution_count": 241,
   "id": "8e860060-019c-45f4-ad9c-252f38481921",
   "metadata": {},
   "outputs": [
    {
     "data": {
      "text/html": [
       "<div>\n",
       "<style scoped>\n",
       "    .dataframe tbody tr th:only-of-type {\n",
       "        vertical-align: middle;\n",
       "    }\n",
       "\n",
       "    .dataframe tbody tr th {\n",
       "        vertical-align: top;\n",
       "    }\n",
       "\n",
       "    .dataframe thead th {\n",
       "        text-align: right;\n",
       "    }\n",
       "</style>\n",
       "<table border=\"1\" class=\"dataframe\">\n",
       "  <thead>\n",
       "    <tr style=\"text-align: right;\">\n",
       "      <th></th>\n",
       "      <th>id</th>\n",
       "      <th>keyword</th>\n",
       "      <th>location</th>\n",
       "      <th>text</th>\n",
       "      <th>target</th>\n",
       "    </tr>\n",
       "  </thead>\n",
       "  <tbody>\n",
       "    <tr>\n",
       "      <th>0</th>\n",
       "      <td>1</td>\n",
       "      <td>NaN</td>\n",
       "      <td>NaN</td>\n",
       "      <td>Our Deeds are the Reason of this #earthquake M...</td>\n",
       "      <td>1</td>\n",
       "    </tr>\n",
       "    <tr>\n",
       "      <th>1</th>\n",
       "      <td>4</td>\n",
       "      <td>NaN</td>\n",
       "      <td>NaN</td>\n",
       "      <td>Forest fire near La Ronge Sask. Canada</td>\n",
       "      <td>1</td>\n",
       "    </tr>\n",
       "    <tr>\n",
       "      <th>2</th>\n",
       "      <td>5</td>\n",
       "      <td>NaN</td>\n",
       "      <td>NaN</td>\n",
       "      <td>All residents asked to 'shelter in place' are ...</td>\n",
       "      <td>1</td>\n",
       "    </tr>\n",
       "    <tr>\n",
       "      <th>3</th>\n",
       "      <td>6</td>\n",
       "      <td>NaN</td>\n",
       "      <td>NaN</td>\n",
       "      <td>13,000 people receive #wildfires evacuation or...</td>\n",
       "      <td>1</td>\n",
       "    </tr>\n",
       "    <tr>\n",
       "      <th>4</th>\n",
       "      <td>7</td>\n",
       "      <td>NaN</td>\n",
       "      <td>NaN</td>\n",
       "      <td>Just got sent this photo from Ruby #Alaska as ...</td>\n",
       "      <td>1</td>\n",
       "    </tr>\n",
       "  </tbody>\n",
       "</table>\n",
       "</div>"
      ],
      "text/plain": [
       "   id keyword location                                               text  \\\n",
       "0   1     NaN      NaN  Our Deeds are the Reason of this #earthquake M...   \n",
       "1   4     NaN      NaN             Forest fire near La Ronge Sask. Canada   \n",
       "2   5     NaN      NaN  All residents asked to 'shelter in place' are ...   \n",
       "3   6     NaN      NaN  13,000 people receive #wildfires evacuation or...   \n",
       "4   7     NaN      NaN  Just got sent this photo from Ruby #Alaska as ...   \n",
       "\n",
       "   target  \n",
       "0       1  \n",
       "1       1  \n",
       "2       1  \n",
       "3       1  \n",
       "4       1  "
      ]
     },
     "execution_count": 241,
     "metadata": {},
     "output_type": "execute_result"
    }
   ],
   "source": [
    "df.head()"
   ]
  },
  {
   "cell_type": "code",
   "execution_count": 243,
   "id": "9a8e99fb-4f7e-41cc-9b5b-b5240d292e5d",
   "metadata": {},
   "outputs": [
    {
     "data": {
      "text/html": [
       "<div>\n",
       "<style scoped>\n",
       "    .dataframe tbody tr th:only-of-type {\n",
       "        vertical-align: middle;\n",
       "    }\n",
       "\n",
       "    .dataframe tbody tr th {\n",
       "        vertical-align: top;\n",
       "    }\n",
       "\n",
       "    .dataframe thead th {\n",
       "        text-align: right;\n",
       "    }\n",
       "</style>\n",
       "<table border=\"1\" class=\"dataframe\">\n",
       "  <thead>\n",
       "    <tr style=\"text-align: right;\">\n",
       "      <th></th>\n",
       "      <th>id</th>\n",
       "      <th>keyword</th>\n",
       "      <th>location</th>\n",
       "      <th>text</th>\n",
       "      <th>target</th>\n",
       "    </tr>\n",
       "  </thead>\n",
       "  <tbody>\n",
       "    <tr>\n",
       "      <th>7608</th>\n",
       "      <td>10869</td>\n",
       "      <td>NaN</td>\n",
       "      <td>NaN</td>\n",
       "      <td>Two giant cranes holding a bridge collapse int...</td>\n",
       "      <td>1</td>\n",
       "    </tr>\n",
       "    <tr>\n",
       "      <th>7609</th>\n",
       "      <td>10870</td>\n",
       "      <td>NaN</td>\n",
       "      <td>NaN</td>\n",
       "      <td>@aria_ahrary @TheTawniest The out of control w...</td>\n",
       "      <td>1</td>\n",
       "    </tr>\n",
       "    <tr>\n",
       "      <th>7610</th>\n",
       "      <td>10871</td>\n",
       "      <td>NaN</td>\n",
       "      <td>NaN</td>\n",
       "      <td>M1.94 [01:04 UTC]?5km S of Volcano Hawaii. htt...</td>\n",
       "      <td>1</td>\n",
       "    </tr>\n",
       "    <tr>\n",
       "      <th>7611</th>\n",
       "      <td>10872</td>\n",
       "      <td>NaN</td>\n",
       "      <td>NaN</td>\n",
       "      <td>Police investigating after an e-bike collided ...</td>\n",
       "      <td>1</td>\n",
       "    </tr>\n",
       "    <tr>\n",
       "      <th>7612</th>\n",
       "      <td>10873</td>\n",
       "      <td>NaN</td>\n",
       "      <td>NaN</td>\n",
       "      <td>The Latest: More Homes Razed by Northern Calif...</td>\n",
       "      <td>1</td>\n",
       "    </tr>\n",
       "  </tbody>\n",
       "</table>\n",
       "</div>"
      ],
      "text/plain": [
       "         id keyword location  \\\n",
       "7608  10869     NaN      NaN   \n",
       "7609  10870     NaN      NaN   \n",
       "7610  10871     NaN      NaN   \n",
       "7611  10872     NaN      NaN   \n",
       "7612  10873     NaN      NaN   \n",
       "\n",
       "                                                   text  target  \n",
       "7608  Two giant cranes holding a bridge collapse int...       1  \n",
       "7609  @aria_ahrary @TheTawniest The out of control w...       1  \n",
       "7610  M1.94 [01:04 UTC]?5km S of Volcano Hawaii. htt...       1  \n",
       "7611  Police investigating after an e-bike collided ...       1  \n",
       "7612  The Latest: More Homes Razed by Northern Calif...       1  "
      ]
     },
     "execution_count": 243,
     "metadata": {},
     "output_type": "execute_result"
    }
   ],
   "source": [
    "df.tail()"
   ]
  },
  {
   "cell_type": "code",
   "execution_count": 245,
   "id": "ad6decd7-b85d-460e-8968-3f4141350f96",
   "metadata": {},
   "outputs": [
    {
     "data": {
      "text/html": [
       "<div>\n",
       "<style scoped>\n",
       "    .dataframe tbody tr th:only-of-type {\n",
       "        vertical-align: middle;\n",
       "    }\n",
       "\n",
       "    .dataframe tbody tr th {\n",
       "        vertical-align: top;\n",
       "    }\n",
       "\n",
       "    .dataframe thead th {\n",
       "        text-align: right;\n",
       "    }\n",
       "</style>\n",
       "<table border=\"1\" class=\"dataframe\">\n",
       "  <thead>\n",
       "    <tr style=\"text-align: right;\">\n",
       "      <th></th>\n",
       "      <th>id</th>\n",
       "      <th>keyword</th>\n",
       "      <th>location</th>\n",
       "      <th>text</th>\n",
       "      <th>target</th>\n",
       "    </tr>\n",
       "  </thead>\n",
       "  <tbody>\n",
       "    <tr>\n",
       "      <th>3645</th>\n",
       "      <td>5194</td>\n",
       "      <td>fatalities</td>\n",
       "      <td>San Francisco</td>\n",
       "      <td>'Motordom' lobbied to change our language arou...</td>\n",
       "      <td>0</td>\n",
       "    </tr>\n",
       "    <tr>\n",
       "      <th>2629</th>\n",
       "      <td>3772</td>\n",
       "      <td>destruction</td>\n",
       "      <td>??????? ??????? ????????</td>\n",
       "      <td>@HassanRouhani Wars doomed to destruction loss...</td>\n",
       "      <td>1</td>\n",
       "    </tr>\n",
       "    <tr>\n",
       "      <th>1365</th>\n",
       "      <td>1968</td>\n",
       "      <td>burning%20buildings</td>\n",
       "      <td>Epic City, BB.</td>\n",
       "      <td>I Pledge Allegiance To The P.O.P.E. And The Bu...</td>\n",
       "      <td>1</td>\n",
       "    </tr>\n",
       "    <tr>\n",
       "      <th>2196</th>\n",
       "      <td>3145</td>\n",
       "      <td>debris</td>\n",
       "      <td>Hong Kong</td>\n",
       "      <td>Plane debris is from missing MH370 http://t.co...</td>\n",
       "      <td>1</td>\n",
       "    </tr>\n",
       "    <tr>\n",
       "      <th>5334</th>\n",
       "      <td>7613</td>\n",
       "      <td>pandemonium</td>\n",
       "      <td>Houston TX</td>\n",
       "      <td>Pandemonium In Aba As Woman Delivers Baby With...</td>\n",
       "      <td>1</td>\n",
       "    </tr>\n",
       "    <tr>\n",
       "      <th>676</th>\n",
       "      <td>977</td>\n",
       "      <td>blaze</td>\n",
       "      <td>NaN</td>\n",
       "      <td>@a__cee DAEM GIRL SMOOTH ASF c: ?</td>\n",
       "      <td>0</td>\n",
       "    </tr>\n",
       "    <tr>\n",
       "      <th>6066</th>\n",
       "      <td>8665</td>\n",
       "      <td>sinkhole</td>\n",
       "      <td>Êwagger!ÌominicanÌ÷</td>\n",
       "      <td>#LoMasVisto THOUSANDS OF HIPSTERS FEARED LOST:...</td>\n",
       "      <td>1</td>\n",
       "    </tr>\n",
       "    <tr>\n",
       "      <th>6648</th>\n",
       "      <td>9524</td>\n",
       "      <td>terrorist</td>\n",
       "      <td>NaN</td>\n",
       "      <td>@BarackObama Senator John McCainÛªs Whoops Mo...</td>\n",
       "      <td>0</td>\n",
       "    </tr>\n",
       "    <tr>\n",
       "      <th>6183</th>\n",
       "      <td>8825</td>\n",
       "      <td>sirens</td>\n",
       "      <td>Nanaimo, BC, Canada</td>\n",
       "      <td>Photoset: hakogaku: ?åÊI am a kurd. i was born...</td>\n",
       "      <td>1</td>\n",
       "    </tr>\n",
       "    <tr>\n",
       "      <th>2465</th>\n",
       "      <td>3533</td>\n",
       "      <td>derailment</td>\n",
       "      <td>India</td>\n",
       "      <td>Trains derailment: 'It's the freakiest of frea...</td>\n",
       "      <td>1</td>\n",
       "    </tr>\n",
       "    <tr>\n",
       "      <th>5859</th>\n",
       "      <td>8370</td>\n",
       "      <td>ruin</td>\n",
       "      <td>NaN</td>\n",
       "      <td>'Cause you play me like a symphony play me til...</td>\n",
       "      <td>0</td>\n",
       "    </tr>\n",
       "    <tr>\n",
       "      <th>785</th>\n",
       "      <td>1138</td>\n",
       "      <td>blight</td>\n",
       "      <td>Maryland, USA</td>\n",
       "      <td>@realhotcullen I agree but I knew we'd be goin...</td>\n",
       "      <td>0</td>\n",
       "    </tr>\n",
       "    <tr>\n",
       "      <th>3224</th>\n",
       "      <td>4627</td>\n",
       "      <td>emergency%20services</td>\n",
       "      <td>NaN</td>\n",
       "      <td>Emergency Shutdown Systems - Edmonton http://t...</td>\n",
       "      <td>1</td>\n",
       "    </tr>\n",
       "    <tr>\n",
       "      <th>7389</th>\n",
       "      <td>10574</td>\n",
       "      <td>windstorm</td>\n",
       "      <td>Argus Industries \\m/666\\m/</td>\n",
       "      <td>Damn...was wondering where my drone ended up a...</td>\n",
       "      <td>1</td>\n",
       "    </tr>\n",
       "    <tr>\n",
       "      <th>2255</th>\n",
       "      <td>3231</td>\n",
       "      <td>deluged</td>\n",
       "      <td>NaN</td>\n",
       "      <td>Tarp is protecting outfield and cannot be move...</td>\n",
       "      <td>1</td>\n",
       "    </tr>\n",
       "    <tr>\n",
       "      <th>550</th>\n",
       "      <td>799</td>\n",
       "      <td>battle</td>\n",
       "      <td>UK Great Britain</td>\n",
       "      <td>I added a video to a @YouTube playlist http://...</td>\n",
       "      <td>0</td>\n",
       "    </tr>\n",
       "    <tr>\n",
       "      <th>5489</th>\n",
       "      <td>7832</td>\n",
       "      <td>quarantine</td>\n",
       "      <td>VÌ_a LÌÁctea</td>\n",
       "      <td>Reddit Will Now Quarantine Offensive Content: ...</td>\n",
       "      <td>0</td>\n",
       "    </tr>\n",
       "    <tr>\n",
       "      <th>3736</th>\n",
       "      <td>5309</td>\n",
       "      <td>fear</td>\n",
       "      <td>St. Louis, MO</td>\n",
       "      <td>Fear is my motivator</td>\n",
       "      <td>0</td>\n",
       "    </tr>\n",
       "    <tr>\n",
       "      <th>413</th>\n",
       "      <td>599</td>\n",
       "      <td>arsonist</td>\n",
       "      <td>Atlanta</td>\n",
       "      <td>#NOWPLAYING Arsonist MC -  So Impressed -  @AR...</td>\n",
       "      <td>0</td>\n",
       "    </tr>\n",
       "    <tr>\n",
       "      <th>2567</th>\n",
       "      <td>3682</td>\n",
       "      <td>destroy</td>\n",
       "      <td>NaN</td>\n",
       "      <td>Me and all my friends could destroy this in 2h...</td>\n",
       "      <td>0</td>\n",
       "    </tr>\n",
       "  </tbody>\n",
       "</table>\n",
       "</div>"
      ],
      "text/plain": [
       "         id               keyword                    location  \\\n",
       "3645   5194            fatalities               San Francisco   \n",
       "2629   3772           destruction    ??????? ??????? ????????   \n",
       "1365   1968   burning%20buildings              Epic City, BB.   \n",
       "2196   3145                debris                   Hong Kong   \n",
       "5334   7613           pandemonium                  Houston TX   \n",
       "676     977                 blaze                         NaN   \n",
       "6066   8665              sinkhole       Êwagger!ÌominicanÌ÷   \n",
       "6648   9524             terrorist                         NaN   \n",
       "6183   8825                sirens         Nanaimo, BC, Canada   \n",
       "2465   3533            derailment                       India   \n",
       "5859   8370                  ruin                         NaN   \n",
       "785    1138                blight               Maryland, USA   \n",
       "3224   4627  emergency%20services                         NaN   \n",
       "7389  10574             windstorm  Argus Industries \\m/666\\m/   \n",
       "2255   3231               deluged                         NaN   \n",
       "550     799                battle           UK Great Britain    \n",
       "5489   7832            quarantine                VÌ_a LÌÁctea   \n",
       "3736   5309                  fear               St. Louis, MO   \n",
       "413     599              arsonist                     Atlanta   \n",
       "2567   3682               destroy                         NaN   \n",
       "\n",
       "                                                   text  target  \n",
       "3645  'Motordom' lobbied to change our language arou...       0  \n",
       "2629  @HassanRouhani Wars doomed to destruction loss...       1  \n",
       "1365  I Pledge Allegiance To The P.O.P.E. And The Bu...       1  \n",
       "2196  Plane debris is from missing MH370 http://t.co...       1  \n",
       "5334  Pandemonium In Aba As Woman Delivers Baby With...       1  \n",
       "676                   @a__cee DAEM GIRL SMOOTH ASF c: ?       0  \n",
       "6066  #LoMasVisto THOUSANDS OF HIPSTERS FEARED LOST:...       1  \n",
       "6648  @BarackObama Senator John McCainÛªs Whoops Mo...       0  \n",
       "6183  Photoset: hakogaku: ?åÊI am a kurd. i was born...       1  \n",
       "2465  Trains derailment: 'It's the freakiest of frea...       1  \n",
       "5859  'Cause you play me like a symphony play me til...       0  \n",
       "785   @realhotcullen I agree but I knew we'd be goin...       0  \n",
       "3224  Emergency Shutdown Systems - Edmonton http://t...       1  \n",
       "7389  Damn...was wondering where my drone ended up a...       1  \n",
       "2255  Tarp is protecting outfield and cannot be move...       1  \n",
       "550   I added a video to a @YouTube playlist http://...       0  \n",
       "5489  Reddit Will Now Quarantine Offensive Content: ...       0  \n",
       "3736                               Fear is my motivator       0  \n",
       "413   #NOWPLAYING Arsonist MC -  So Impressed -  @AR...       0  \n",
       "2567  Me and all my friends could destroy this in 2h...       0  "
      ]
     },
     "execution_count": 245,
     "metadata": {},
     "output_type": "execute_result"
    }
   ],
   "source": [
    "df.sample(20)"
   ]
  },
  {
   "cell_type": "markdown",
   "id": "00f5c08c-c0d3-495a-8b25-e1df8f82fc23",
   "metadata": {},
   "source": [
    "Structure df"
   ]
  },
  {
   "cell_type": "code",
   "execution_count": 248,
   "id": "297bf15f-8b7f-4e00-b050-d227260c3e9c",
   "metadata": {},
   "outputs": [
    {
     "data": {
      "text/plain": [
       "(7613, 5)"
      ]
     },
     "execution_count": 248,
     "metadata": {},
     "output_type": "execute_result"
    }
   ],
   "source": [
    "df.shape"
   ]
  },
  {
   "cell_type": "code",
   "execution_count": 250,
   "id": "0181c75a-7402-4fcb-9863-2d73db196e66",
   "metadata": {},
   "outputs": [
    {
     "name": "stdout",
     "output_type": "stream",
     "text": [
      "<class 'pandas.core.frame.DataFrame'>\n",
      "RangeIndex: 7613 entries, 0 to 7612\n",
      "Data columns (total 5 columns):\n",
      " #   Column    Non-Null Count  Dtype \n",
      "---  ------    --------------  ----- \n",
      " 0   id        7613 non-null   int64 \n",
      " 1   keyword   7552 non-null   object\n",
      " 2   location  5080 non-null   object\n",
      " 3   text      7613 non-null   object\n",
      " 4   target    7613 non-null   int64 \n",
      "dtypes: int64(2), object(3)\n",
      "memory usage: 297.5+ KB\n"
     ]
    }
   ],
   "source": [
    "df.info()"
   ]
  },
  {
   "cell_type": "code",
   "execution_count": 252,
   "id": "b18afff2-2f20-4877-9e5f-ff45941bce08",
   "metadata": {},
   "outputs": [
    {
     "data": {
      "text/plain": [
       "id          7613\n",
       "keyword      221\n",
       "location    3341\n",
       "text        7503\n",
       "target         2\n",
       "dtype: int64"
      ]
     },
     "execution_count": 252,
     "metadata": {},
     "output_type": "execute_result"
    }
   ],
   "source": [
    "df.nunique()"
   ]
  },
  {
   "cell_type": "code",
   "execution_count": 254,
   "id": "cb5ce6c6-f893-4ed9-accf-2e637099f136",
   "metadata": {},
   "outputs": [],
   "source": [
    "tmp = df.nunique()"
   ]
  },
  {
   "cell_type": "code",
   "execution_count": 256,
   "id": "858fa875-e40e-4a2d-a076-9a991c41071b",
   "metadata": {},
   "outputs": [
    {
     "data": {
      "text/plain": [
       "target    2\n",
       "dtype: int64"
      ]
     },
     "execution_count": 256,
     "metadata": {},
     "output_type": "execute_result"
    }
   ],
   "source": [
    "tmp [tmp < 10]"
   ]
  },
  {
   "cell_type": "code",
   "execution_count": 258,
   "id": "43915582-f89b-4db0-975a-284c9676c1e6",
   "metadata": {},
   "outputs": [
    {
     "data": {
      "text/plain": [
       "id          7613\n",
       "location    3341\n",
       "text        7503\n",
       "dtype: int64"
      ]
     },
     "execution_count": 258,
     "metadata": {},
     "output_type": "execute_result"
    }
   ],
   "source": [
    "tmp [tmp > 1000]"
   ]
  },
  {
   "cell_type": "markdown",
   "id": "9d11c723-4a4f-4d0d-aefd-d3bfac0928a1",
   "metadata": {},
   "source": [
    "Duplicated et NAN"
   ]
  },
  {
   "cell_type": "code",
   "execution_count": 261,
   "id": "23fc4481-8504-414c-9f47-d7fb5ac58889",
   "metadata": {},
   "outputs": [
    {
     "data": {
      "text/plain": [
       "id             0\n",
       "keyword       61\n",
       "location    2533\n",
       "text           0\n",
       "target         0\n",
       "dtype: int64"
      ]
     },
     "execution_count": 261,
     "metadata": {},
     "output_type": "execute_result"
    }
   ],
   "source": [
    "df.isna().sum()"
   ]
  },
  {
   "cell_type": "code",
   "execution_count": 263,
   "id": "7053e67c-f0c4-4d91-8337-d1489426cc60",
   "metadata": {},
   "outputs": [
    {
     "data": {
      "text/plain": [
       "id          0.000000\n",
       "text        0.000000\n",
       "target      0.000000\n",
       "keyword     0.008013\n",
       "location    0.332720\n",
       "dtype: float64"
      ]
     },
     "execution_count": 263,
     "metadata": {},
     "output_type": "execute_result"
    }
   ],
   "source": [
    "df.isna().mean().sort_values()"
   ]
  },
  {
   "cell_type": "code",
   "execution_count": 265,
   "id": "e08bdb28-36e7-44a5-b296-aa25b15a9bed",
   "metadata": {},
   "outputs": [
    {
     "data": {
      "text/plain": [
       "<Axes: >"
      ]
     },
     "execution_count": 265,
     "metadata": {},
     "output_type": "execute_result"
    },
    {
     "data": {
      "image/png": "[encoded data removed]",
      "text/plain": [
       "<Figure size 640x480 with 2 Axes>"
      ]
     },
     "metadata": {},
     "output_type": "display_data"
    }
   ],
   "source": [
    " sns.heatmap(df.isna())"
   ]
  },
  {
   "cell_type": "code",
   "execution_count": 267,
   "id": "0f82c905-141a-48f8-8307-b7d57ef55cb4",
   "metadata": {},
   "outputs": [
    {
     "data": {
      "text/plain": [
       "<Axes: >"
      ]
     },
     "execution_count": 267,
     "metadata": {},
     "output_type": "execute_result"
    },
    {
     "data": {
      "image/png": "[encoded data removed]",
      "text/plain": [
       "<Figure size 2000x600 with 2 Axes>"
      ]
     },
     "metadata": {},
     "output_type": "display_data"
    }
   ],
   "source": [
    "fig, ax = plt.subplots(1, 1, figsize=(20, 6))\n",
    "sns.heatmap(df.isna())"
   ]
  },
  {
   "cell_type": "code",
   "execution_count": 269,
   "id": "e14922f9-8d2d-44b5-848a-0d375321594a",
   "metadata": {},
   "outputs": [
    {
     "data": {
      "text/plain": [
       "0"
      ]
     },
     "execution_count": 269,
     "metadata": {},
     "output_type": "execute_result"
    }
   ],
   "source": [
    "df.duplicated().sum()"
   ]
  },
  {
   "cell_type": "code",
   "execution_count": 271,
   "id": "29b4598e-a726-4a82-a6cd-f6adb33d3052",
   "metadata": {},
   "outputs": [
    {
     "data": {
      "text/plain": [
       "110"
      ]
     },
     "execution_count": 271,
     "metadata": {},
     "output_type": "execute_result"
    }
   ],
   "source": [
    "df.duplicated(subset='text').sum()"
   ]
  },
  {
   "cell_type": "code",
   "execution_count": 273,
   "id": "c77d0afb-7f9c-405f-9d6f-e90946d29cfb",
   "metadata": {},
   "outputs": [
    {
     "name": "stdout",
     "output_type": "stream",
     "text": [
      "col : id -> duplicated : 0\n",
      "col : keyword -> duplicated : 7391\n",
      "col : location -> duplicated : 4271\n",
      "col : text -> duplicated : 110\n",
      "col : target -> duplicated : 7611\n"
     ]
    }
   ],
   "source": [
    "for col in df.columns:\n",
    "    n = df.duplicated(subset=col).sum()\n",
    "    print(f\"col : {col} -> duplicated : {n}\")"
   ]
  },
  {
   "cell_type": "code",
   "execution_count": 275,
   "id": "beb4fe14-9e8a-4d17-bd3f-ab662e67484a",
   "metadata": {},
   "outputs": [
    {
     "data": {
      "text/html": [
       "<div>\n",
       "<style scoped>\n",
       "    .dataframe tbody tr th:only-of-type {\n",
       "        vertical-align: middle;\n",
       "    }\n",
       "\n",
       "    .dataframe tbody tr th {\n",
       "        vertical-align: top;\n",
       "    }\n",
       "\n",
       "    .dataframe thead th {\n",
       "        text-align: right;\n",
       "    }\n",
       "</style>\n",
       "<table border=\"1\" class=\"dataframe\">\n",
       "  <thead>\n",
       "    <tr style=\"text-align: right;\">\n",
       "      <th></th>\n",
       "      <th>id</th>\n",
       "      <th>keyword</th>\n",
       "      <th>location</th>\n",
       "      <th>text</th>\n",
       "      <th>target</th>\n",
       "    </tr>\n",
       "  </thead>\n",
       "  <tbody>\n",
       "    <tr>\n",
       "      <th>4299</th>\n",
       "      <td>6105</td>\n",
       "      <td>hellfire</td>\n",
       "      <td>?????? ??? ?????? ????????</td>\n",
       "      <td>#Allah describes piling up #wealth thinking it...</td>\n",
       "      <td>0</td>\n",
       "    </tr>\n",
       "    <tr>\n",
       "      <th>4312</th>\n",
       "      <td>6123</td>\n",
       "      <td>hellfire</td>\n",
       "      <td>?????? ???? ??????</td>\n",
       "      <td>#Allah describes piling up #wealth thinking it...</td>\n",
       "      <td>1</td>\n",
       "    </tr>\n",
       "    <tr>\n",
       "      <th>6366</th>\n",
       "      <td>9098</td>\n",
       "      <td>suicide%20bomb</td>\n",
       "      <td>Nigeria</td>\n",
       "      <td>#Bestnaijamade: 16yr old PKK suicide bomber wh...</td>\n",
       "      <td>1</td>\n",
       "    </tr>\n",
       "    <tr>\n",
       "      <th>6373</th>\n",
       "      <td>9107</td>\n",
       "      <td>suicide%20bomb</td>\n",
       "      <td>Nigeria</td>\n",
       "      <td>#Bestnaijamade: 16yr old PKK suicide bomber wh...</td>\n",
       "      <td>1</td>\n",
       "    </tr>\n",
       "    <tr>\n",
       "      <th>6392</th>\n",
       "      <td>9135</td>\n",
       "      <td>suicide%20bomb</td>\n",
       "      <td>Nigeria</td>\n",
       "      <td>#Bestnaijamade: 16yr old PKK suicide bomber wh...</td>\n",
       "      <td>1</td>\n",
       "    </tr>\n",
       "    <tr>\n",
       "      <th>...</th>\n",
       "      <td>...</td>\n",
       "      <td>...</td>\n",
       "      <td>...</td>\n",
       "      <td>...</td>\n",
       "      <td>...</td>\n",
       "    </tr>\n",
       "    <tr>\n",
       "      <th>3461</th>\n",
       "      <td>4952</td>\n",
       "      <td>exploded</td>\n",
       "      <td>NaN</td>\n",
       "      <td>that exploded &amp;amp; brought about the\\nbeginni...</td>\n",
       "      <td>0</td>\n",
       "    </tr>\n",
       "    <tr>\n",
       "      <th>6103</th>\n",
       "      <td>8714</td>\n",
       "      <td>sinking</td>\n",
       "      <td>NaN</td>\n",
       "      <td>that horrible sinking feeling when youÛªve be...</td>\n",
       "      <td>0</td>\n",
       "    </tr>\n",
       "    <tr>\n",
       "      <th>6094</th>\n",
       "      <td>8702</td>\n",
       "      <td>sinking</td>\n",
       "      <td>NaN</td>\n",
       "      <td>that horrible sinking feeling when youÛªve be...</td>\n",
       "      <td>0</td>\n",
       "    </tr>\n",
       "    <tr>\n",
       "      <th>6123</th>\n",
       "      <td>8739</td>\n",
       "      <td>sinking</td>\n",
       "      <td>MA</td>\n",
       "      <td>that horrible sinking feeling when youÛªve be...</td>\n",
       "      <td>1</td>\n",
       "    </tr>\n",
       "    <tr>\n",
       "      <th>5641</th>\n",
       "      <td>8044</td>\n",
       "      <td>refugees</td>\n",
       "      <td>NaN</td>\n",
       "      <td>wowo--=== 12000 Nigerian refugees repatriated ...</td>\n",
       "      <td>0</td>\n",
       "    </tr>\n",
       "  </tbody>\n",
       "</table>\n",
       "<p>110 rows × 5 columns</p>\n",
       "</div>"
      ],
      "text/plain": [
       "        id         keyword                    location  \\\n",
       "4299  6105        hellfire  ?????? ??? ?????? ????????   \n",
       "4312  6123        hellfire          ?????? ???? ??????   \n",
       "6366  9098  suicide%20bomb                     Nigeria   \n",
       "6373  9107  suicide%20bomb                     Nigeria   \n",
       "6392  9135  suicide%20bomb                     Nigeria   \n",
       "...    ...             ...                         ...   \n",
       "3461  4952        exploded                         NaN   \n",
       "6103  8714         sinking                         NaN   \n",
       "6094  8702         sinking                         NaN   \n",
       "6123  8739         sinking                          MA   \n",
       "5641  8044        refugees                         NaN   \n",
       "\n",
       "                                                   text  target  \n",
       "4299  #Allah describes piling up #wealth thinking it...       0  \n",
       "4312  #Allah describes piling up #wealth thinking it...       1  \n",
       "6366  #Bestnaijamade: 16yr old PKK suicide bomber wh...       1  \n",
       "6373  #Bestnaijamade: 16yr old PKK suicide bomber wh...       1  \n",
       "6392  #Bestnaijamade: 16yr old PKK suicide bomber wh...       1  \n",
       "...                                                 ...     ...  \n",
       "3461  that exploded &amp; brought about the\\nbeginni...       0  \n",
       "6103  that horrible sinking feeling when youÛªve be...       0  \n",
       "6094  that horrible sinking feeling when youÛªve be...       0  \n",
       "6123  that horrible sinking feeling when youÛªve be...       1  \n",
       "5641  wowo--=== 12000 Nigerian refugees repatriated ...       0  \n",
       "\n",
       "[110 rows x 5 columns]"
      ]
     },
     "execution_count": 275,
     "metadata": {},
     "output_type": "execute_result"
    }
   ],
   "source": [
    "idx = df.duplicated(subset=\"text\",keep=\"first\")\n",
    "df.loc[idx, : ].sort_values(\"text\")"
   ]
  },
  {
   "cell_type": "markdown",
   "id": "a7d19dc1-8ef4-45f9-947f-cf33c6ea9984",
   "metadata": {},
   "source": [
    "inspection de donnée"
   ]
  },
  {
   "cell_type": "code",
   "execution_count": 278,
   "id": "b22020d5-0df8-4724-92fe-ebfa276c447e",
   "metadata": {},
   "outputs": [
    {
     "data": {
      "text/html": [
       "<div>\n",
       "<style scoped>\n",
       "    .dataframe tbody tr th:only-of-type {\n",
       "        vertical-align: middle;\n",
       "    }\n",
       "\n",
       "    .dataframe tbody tr th {\n",
       "        vertical-align: top;\n",
       "    }\n",
       "\n",
       "    .dataframe thead th {\n",
       "        text-align: right;\n",
       "    }\n",
       "</style>\n",
       "<table border=\"1\" class=\"dataframe\">\n",
       "  <thead>\n",
       "    <tr style=\"text-align: right;\">\n",
       "      <th></th>\n",
       "      <th>id</th>\n",
       "      <th>target</th>\n",
       "    </tr>\n",
       "  </thead>\n",
       "  <tbody>\n",
       "    <tr>\n",
       "      <th>count</th>\n",
       "      <td>7613.000000</td>\n",
       "      <td>7613.00000</td>\n",
       "    </tr>\n",
       "    <tr>\n",
       "      <th>mean</th>\n",
       "      <td>5441.934848</td>\n",
       "      <td>0.42966</td>\n",
       "    </tr>\n",
       "    <tr>\n",
       "      <th>std</th>\n",
       "      <td>3137.116090</td>\n",
       "      <td>0.49506</td>\n",
       "    </tr>\n",
       "    <tr>\n",
       "      <th>min</th>\n",
       "      <td>1.000000</td>\n",
       "      <td>0.00000</td>\n",
       "    </tr>\n",
       "    <tr>\n",
       "      <th>25%</th>\n",
       "      <td>2734.000000</td>\n",
       "      <td>0.00000</td>\n",
       "    </tr>\n",
       "    <tr>\n",
       "      <th>50%</th>\n",
       "      <td>5408.000000</td>\n",
       "      <td>0.00000</td>\n",
       "    </tr>\n",
       "    <tr>\n",
       "      <th>75%</th>\n",
       "      <td>8146.000000</td>\n",
       "      <td>1.00000</td>\n",
       "    </tr>\n",
       "    <tr>\n",
       "      <th>max</th>\n",
       "      <td>10873.000000</td>\n",
       "      <td>1.00000</td>\n",
       "    </tr>\n",
       "  </tbody>\n",
       "</table>\n",
       "</div>"
      ],
      "text/plain": [
       "                 id      target\n",
       "count   7613.000000  7613.00000\n",
       "mean    5441.934848     0.42966\n",
       "std     3137.116090     0.49506\n",
       "min        1.000000     0.00000\n",
       "25%     2734.000000     0.00000\n",
       "50%     5408.000000     0.00000\n",
       "75%     8146.000000     1.00000\n",
       "max    10873.000000     1.00000"
      ]
     },
     "execution_count": 278,
     "metadata": {},
     "output_type": "execute_result"
    }
   ],
   "source": [
    "df.describe(include=np.number)"
   ]
  },
  {
   "cell_type": "code",
   "execution_count": 280,
   "id": "39f848e3-e839-465f-b744-df4cc7a6c475",
   "metadata": {},
   "outputs": [
    {
     "data": {
      "text/html": [
       "<div>\n",
       "<style scoped>\n",
       "    .dataframe tbody tr th:only-of-type {\n",
       "        vertical-align: middle;\n",
       "    }\n",
       "\n",
       "    .dataframe tbody tr th {\n",
       "        vertical-align: top;\n",
       "    }\n",
       "\n",
       "    .dataframe thead th {\n",
       "        text-align: right;\n",
       "    }\n",
       "</style>\n",
       "<table border=\"1\" class=\"dataframe\">\n",
       "  <thead>\n",
       "    <tr style=\"text-align: right;\">\n",
       "      <th></th>\n",
       "      <th>keyword</th>\n",
       "      <th>location</th>\n",
       "      <th>text</th>\n",
       "    </tr>\n",
       "  </thead>\n",
       "  <tbody>\n",
       "    <tr>\n",
       "      <th>count</th>\n",
       "      <td>7552</td>\n",
       "      <td>5080</td>\n",
       "      <td>7613</td>\n",
       "    </tr>\n",
       "    <tr>\n",
       "      <th>unique</th>\n",
       "      <td>221</td>\n",
       "      <td>3341</td>\n",
       "      <td>7503</td>\n",
       "    </tr>\n",
       "    <tr>\n",
       "      <th>top</th>\n",
       "      <td>fatalities</td>\n",
       "      <td>USA</td>\n",
       "      <td>11-Year-Old Boy Charged With Manslaughter of T...</td>\n",
       "    </tr>\n",
       "    <tr>\n",
       "      <th>freq</th>\n",
       "      <td>45</td>\n",
       "      <td>104</td>\n",
       "      <td>10</td>\n",
       "    </tr>\n",
       "  </tbody>\n",
       "</table>\n",
       "</div>"
      ],
      "text/plain": [
       "           keyword location                                               text\n",
       "count         7552     5080                                               7613\n",
       "unique         221     3341                                               7503\n",
       "top     fatalities      USA  11-Year-Old Boy Charged With Manslaughter of T...\n",
       "freq            45      104                                                 10"
      ]
     },
     "execution_count": 280,
     "metadata": {},
     "output_type": "execute_result"
    }
   ],
   "source": [
    "df.describe(include=object)"
   ]
  },
  {
   "cell_type": "markdown",
   "id": "87644e73-72bf-4c68-ad36-10835aa9b13f",
   "metadata": {},
   "source": [
    "Nettoyage"
   ]
  },
  {
   "cell_type": "code",
   "execution_count": 283,
   "id": "ebd914e6-2821-4d09-a19d-5194edd5d46d",
   "metadata": {},
   "outputs": [
    {
     "data": {
      "text/plain": [
       "id           int64\n",
       "keyword     object\n",
       "location    object\n",
       "text        object\n",
       "target       int64\n",
       "dtype: object"
      ]
     },
     "execution_count": 283,
     "metadata": {},
     "output_type": "execute_result"
    }
   ],
   "source": [
    "tmp = df.dtypes\n",
    "tmp"
   ]
  },
  {
   "cell_type": "code",
   "execution_count": 285,
   "id": "3504b393-e482-42f1-a074-864917d6906b",
   "metadata": {},
   "outputs": [
    {
     "data": {
      "text/html": [
       "<div>\n",
       "<style scoped>\n",
       "    .dataframe tbody tr th:only-of-type {\n",
       "        vertical-align: middle;\n",
       "    }\n",
       "\n",
       "    .dataframe tbody tr th {\n",
       "        vertical-align: top;\n",
       "    }\n",
       "\n",
       "    .dataframe thead th {\n",
       "        text-align: right;\n",
       "    }\n",
       "</style>\n",
       "<table border=\"1\" class=\"dataframe\">\n",
       "  <thead>\n",
       "    <tr style=\"text-align: right;\">\n",
       "      <th></th>\n",
       "      <th>text</th>\n",
       "      <th>target</th>\n",
       "    </tr>\n",
       "  </thead>\n",
       "  <tbody>\n",
       "    <tr>\n",
       "      <th>0</th>\n",
       "      <td>Our Deeds are the Reason of this #earthquake M...</td>\n",
       "      <td>1</td>\n",
       "    </tr>\n",
       "    <tr>\n",
       "      <th>1</th>\n",
       "      <td>Forest fire near La Ronge Sask. Canada</td>\n",
       "      <td>1</td>\n",
       "    </tr>\n",
       "    <tr>\n",
       "      <th>2</th>\n",
       "      <td>All residents asked to 'shelter in place' are ...</td>\n",
       "      <td>1</td>\n",
       "    </tr>\n",
       "    <tr>\n",
       "      <th>3</th>\n",
       "      <td>13,000 people receive #wildfires evacuation or...</td>\n",
       "      <td>1</td>\n",
       "    </tr>\n",
       "    <tr>\n",
       "      <th>4</th>\n",
       "      <td>Just got sent this photo from Ruby #Alaska as ...</td>\n",
       "      <td>1</td>\n",
       "    </tr>\n",
       "  </tbody>\n",
       "</table>\n",
       "</div>"
      ],
      "text/plain": [
       "                                                text  target\n",
       "0  Our Deeds are the Reason of this #earthquake M...       1\n",
       "1             Forest fire near La Ronge Sask. Canada       1\n",
       "2  All residents asked to 'shelter in place' are ...       1\n",
       "3  13,000 people receive #wildfires evacuation or...       1\n",
       "4  Just got sent this photo from Ruby #Alaska as ...       1"
      ]
     },
     "execution_count": 285,
     "metadata": {},
     "output_type": "execute_result"
    }
   ],
   "source": [
    "cols = [\"text\", \"target\"]\n",
    "df = df[cols]\n",
    "df.head()"
   ]
  },
  {
   "cell_type": "markdown",
   "id": "84db8074-eb4d-4313-aa82-3a486498b57e",
   "metadata": {},
   "source": [
    "Suppression de NAN"
   ]
  },
  {
   "cell_type": "code",
   "execution_count": 288,
   "id": "49f85ab7-265b-41f1-ae18-0a457e77aafb",
   "metadata": {},
   "outputs": [
    {
     "data": {
      "text/plain": [
       "text      0.0\n",
       "target    0.0\n",
       "dtype: float64"
      ]
     },
     "execution_count": 288,
     "metadata": {},
     "output_type": "execute_result"
    }
   ],
   "source": [
    "df.isna().mean()"
   ]
  },
  {
   "cell_type": "markdown",
   "id": "416e2d94-41fb-4216-8edb-b286c709b437",
   "metadata": {},
   "source": [
    "Duplicated"
   ]
  },
  {
   "cell_type": "code",
   "execution_count": 291,
   "id": "bc9e4814-bdc0-40d8-87f3-136b4967e512",
   "metadata": {},
   "outputs": [
    {
     "data": {
      "text/plain": [
       "(7613, 2)"
      ]
     },
     "execution_count": 291,
     "metadata": {},
     "output_type": "execute_result"
    }
   ],
   "source": [
    "df.shape"
   ]
  },
  {
   "cell_type": "code",
   "execution_count": 293,
   "id": "47ea0b07-f251-43c6-9a8a-81fa7f694482",
   "metadata": {},
   "outputs": [
    {
     "data": {
      "text/html": [
       "<div>\n",
       "<style scoped>\n",
       "    .dataframe tbody tr th:only-of-type {\n",
       "        vertical-align: middle;\n",
       "    }\n",
       "\n",
       "    .dataframe tbody tr th {\n",
       "        vertical-align: top;\n",
       "    }\n",
       "\n",
       "    .dataframe thead th {\n",
       "        text-align: right;\n",
       "    }\n",
       "</style>\n",
       "<table border=\"1\" class=\"dataframe\">\n",
       "  <thead>\n",
       "    <tr style=\"text-align: right;\">\n",
       "      <th></th>\n",
       "      <th>text</th>\n",
       "      <th>target</th>\n",
       "    </tr>\n",
       "  </thead>\n",
       "  <tbody>\n",
       "    <tr>\n",
       "      <th>4299</th>\n",
       "      <td>#Allah describes piling up #wealth thinking it...</td>\n",
       "      <td>0</td>\n",
       "    </tr>\n",
       "    <tr>\n",
       "      <th>4312</th>\n",
       "      <td>#Allah describes piling up #wealth thinking it...</td>\n",
       "      <td>1</td>\n",
       "    </tr>\n",
       "    <tr>\n",
       "      <th>6366</th>\n",
       "      <td>#Bestnaijamade: 16yr old PKK suicide bomber wh...</td>\n",
       "      <td>1</td>\n",
       "    </tr>\n",
       "    <tr>\n",
       "      <th>6373</th>\n",
       "      <td>#Bestnaijamade: 16yr old PKK suicide bomber wh...</td>\n",
       "      <td>1</td>\n",
       "    </tr>\n",
       "    <tr>\n",
       "      <th>6392</th>\n",
       "      <td>#Bestnaijamade: 16yr old PKK suicide bomber wh...</td>\n",
       "      <td>1</td>\n",
       "    </tr>\n",
       "    <tr>\n",
       "      <th>...</th>\n",
       "      <td>...</td>\n",
       "      <td>...</td>\n",
       "    </tr>\n",
       "    <tr>\n",
       "      <th>3461</th>\n",
       "      <td>that exploded &amp;amp; brought about the\\nbeginni...</td>\n",
       "      <td>0</td>\n",
       "    </tr>\n",
       "    <tr>\n",
       "      <th>6103</th>\n",
       "      <td>that horrible sinking feeling when youÛªve be...</td>\n",
       "      <td>0</td>\n",
       "    </tr>\n",
       "    <tr>\n",
       "      <th>6094</th>\n",
       "      <td>that horrible sinking feeling when youÛªve be...</td>\n",
       "      <td>0</td>\n",
       "    </tr>\n",
       "    <tr>\n",
       "      <th>6123</th>\n",
       "      <td>that horrible sinking feeling when youÛªve be...</td>\n",
       "      <td>1</td>\n",
       "    </tr>\n",
       "    <tr>\n",
       "      <th>5641</th>\n",
       "      <td>wowo--=== 12000 Nigerian refugees repatriated ...</td>\n",
       "      <td>0</td>\n",
       "    </tr>\n",
       "  </tbody>\n",
       "</table>\n",
       "<p>110 rows × 2 columns</p>\n",
       "</div>"
      ],
      "text/plain": [
       "                                                   text  target\n",
       "4299  #Allah describes piling up #wealth thinking it...       0\n",
       "4312  #Allah describes piling up #wealth thinking it...       1\n",
       "6366  #Bestnaijamade: 16yr old PKK suicide bomber wh...       1\n",
       "6373  #Bestnaijamade: 16yr old PKK suicide bomber wh...       1\n",
       "6392  #Bestnaijamade: 16yr old PKK suicide bomber wh...       1\n",
       "...                                                 ...     ...\n",
       "3461  that exploded &amp; brought about the\\nbeginni...       0\n",
       "6103  that horrible sinking feeling when youÛªve be...       0\n",
       "6094  that horrible sinking feeling when youÛªve be...       0\n",
       "6123  that horrible sinking feeling when youÛªve be...       1\n",
       "5641  wowo--=== 12000 Nigerian refugees repatriated ...       0\n",
       "\n",
       "[110 rows x 2 columns]"
      ]
     },
     "execution_count": 293,
     "metadata": {},
     "output_type": "execute_result"
    }
   ],
   "source": [
    "idx = df.duplicated(subset=\"text\",keep=\"first\")\n",
    "df.loc[idx, : ].sort_values(\"text\")"
   ]
  },
  {
   "cell_type": "code",
   "execution_count": 295,
   "id": "1cf9914c-f2e7-4f8c-81f6-1a83872f737c",
   "metadata": {},
   "outputs": [],
   "source": [
    "df.drop_duplicates(subset=\"text\", inplace=True)"
   ]
  },
  {
   "cell_type": "code",
   "execution_count": 297,
   "id": "2b99ddfc-0d85-4cd6-8cc6-140c1e051942",
   "metadata": {},
   "outputs": [
    {
     "data": {
      "text/plain": [
       "<Axes: ylabel='count'>"
      ]
     },
     "execution_count": 297,
     "metadata": {},
     "output_type": "execute_result"
    },
    {
     "data": {
      "image/png": "[encoded data removed]",
      "text/plain": [
       "<Figure size 640x480 with 1 Axes>"
      ]
     },
     "metadata": {},
     "output_type": "display_data"
    }
   ],
   "source": [
    "df.target.value_counts().plot(kind=\"pie\")"
   ]
  },
  {
   "cell_type": "markdown",
   "id": "d65856da-5108-4663-b42b-fa18e89e21e9",
   "metadata": {},
   "source": [
    "la notion de longueur de caractere"
   ]
  },
  {
   "cell_type": "code",
   "execution_count": 300,
   "id": "13e6b162-05be-49e4-8bdb-feaf17d8ebfe",
   "metadata": {},
   "outputs": [
    {
     "data": {
      "text/html": [
       "<div>\n",
       "<style scoped>\n",
       "    .dataframe tbody tr th:only-of-type {\n",
       "        vertical-align: middle;\n",
       "    }\n",
       "\n",
       "    .dataframe tbody tr th {\n",
       "        vertical-align: top;\n",
       "    }\n",
       "\n",
       "    .dataframe thead th {\n",
       "        text-align: right;\n",
       "    }\n",
       "</style>\n",
       "<table border=\"1\" class=\"dataframe\">\n",
       "  <thead>\n",
       "    <tr style=\"text-align: right;\">\n",
       "      <th></th>\n",
       "      <th>text</th>\n",
       "    </tr>\n",
       "  </thead>\n",
       "  <tbody>\n",
       "    <tr>\n",
       "      <th>count</th>\n",
       "      <td>7503</td>\n",
       "    </tr>\n",
       "    <tr>\n",
       "      <th>unique</th>\n",
       "      <td>7503</td>\n",
       "    </tr>\n",
       "    <tr>\n",
       "      <th>top</th>\n",
       "      <td>Our Deeds are the Reason of this #earthquake M...</td>\n",
       "    </tr>\n",
       "    <tr>\n",
       "      <th>freq</th>\n",
       "      <td>1</td>\n",
       "    </tr>\n",
       "  </tbody>\n",
       "</table>\n",
       "</div>"
      ],
      "text/plain": [
       "                                                     text\n",
       "count                                                7503\n",
       "unique                                               7503\n",
       "top     Our Deeds are the Reason of this #earthquake M...\n",
       "freq                                                    1"
      ]
     },
     "execution_count": 300,
     "metadata": {},
     "output_type": "execute_result"
    }
   ],
   "source": [
    "df.describe(include=\"object\")"
   ]
  },
  {
   "cell_type": "code",
   "execution_count": 302,
   "id": "b0685bdf-a550-415d-b089-25a20f4b1204",
   "metadata": {},
   "outputs": [
    {
     "data": {
      "text/plain": [
       "0        69\n",
       "1        38\n",
       "2       133\n",
       "3        65\n",
       "4        88\n",
       "       ... \n",
       "7604    136\n",
       "7605    114\n",
       "7606    121\n",
       "7608     83\n",
       "7612     94\n",
       "Name: text, Length: 7503, dtype: int64"
      ]
     },
     "execution_count": 302,
     "metadata": {},
     "output_type": "execute_result"
    }
   ],
   "source": [
    "df.text.apply(lambda i : len(i))"
   ]
  },
  {
   "cell_type": "code",
   "execution_count": 304,
   "id": "c4519dbb-6a44-4e9f-870f-fa6b15b4da90",
   "metadata": {},
   "outputs": [
    {
     "data": {
      "text/plain": [
       "<Axes: ylabel='text'>"
      ]
     },
     "execution_count": 304,
     "metadata": {},
     "output_type": "execute_result"
    },
    {
     "data": {
      "image/png": "[encoded data removed]",
      "text/plain": [
       "<Figure size 640x480 with 1 Axes>"
      ]
     },
     "metadata": {},
     "output_type": "display_data"
    }
   ],
   "source": [
    "tmp = df.text.str.len()\n",
    "sns.boxplot(tmp)"
   ]
  },
  {
   "cell_type": "code",
   "execution_count": 306,
   "id": "8b71c0d5-ae12-4b1b-b022-4ddcf685f4f9",
   "metadata": {},
   "outputs": [
    {
     "data": {
      "text/plain": [
       "<seaborn.axisgrid.FacetGrid at 0x191db7817f0>"
      ]
     },
     "execution_count": 306,
     "metadata": {},
     "output_type": "execute_result"
    },
    {
     "data": {
      "image/png": "[encoded data removed]",
      "text/plain": [
       "<Figure size 500x500 with 1 Axes>"
      ]
     },
     "metadata": {},
     "output_type": "display_data"
    }
   ],
   "source": [
    "sns.displot(tmp)"
   ]
  },
  {
   "cell_type": "code",
   "execution_count": 308,
   "id": "6f535011-b835-4469-a08b-508b975ce297",
   "metadata": {},
   "outputs": [
    {
     "data": {
      "text/html": [
       "<div>\n",
       "<style scoped>\n",
       "    .dataframe tbody tr th:only-of-type {\n",
       "        vertical-align: middle;\n",
       "    }\n",
       "\n",
       "    .dataframe tbody tr th {\n",
       "        vertical-align: top;\n",
       "    }\n",
       "\n",
       "    .dataframe thead th {\n",
       "        text-align: right;\n",
       "    }\n",
       "</style>\n",
       "<table border=\"1\" class=\"dataframe\">\n",
       "  <thead>\n",
       "    <tr style=\"text-align: right;\">\n",
       "      <th></th>\n",
       "      <th>text</th>\n",
       "      <th>target</th>\n",
       "      <th>_len_text</th>\n",
       "    </tr>\n",
       "  </thead>\n",
       "  <tbody>\n",
       "    <tr>\n",
       "      <th>0</th>\n",
       "      <td>Our Deeds are the Reason of this #earthquake M...</td>\n",
       "      <td>1</td>\n",
       "      <td>69</td>\n",
       "    </tr>\n",
       "    <tr>\n",
       "      <th>1</th>\n",
       "      <td>Forest fire near La Ronge Sask. Canada</td>\n",
       "      <td>1</td>\n",
       "      <td>38</td>\n",
       "    </tr>\n",
       "    <tr>\n",
       "      <th>2</th>\n",
       "      <td>All residents asked to 'shelter in place' are ...</td>\n",
       "      <td>1</td>\n",
       "      <td>133</td>\n",
       "    </tr>\n",
       "    <tr>\n",
       "      <th>3</th>\n",
       "      <td>13,000 people receive #wildfires evacuation or...</td>\n",
       "      <td>1</td>\n",
       "      <td>65</td>\n",
       "    </tr>\n",
       "    <tr>\n",
       "      <th>4</th>\n",
       "      <td>Just got sent this photo from Ruby #Alaska as ...</td>\n",
       "      <td>1</td>\n",
       "      <td>88</td>\n",
       "    </tr>\n",
       "  </tbody>\n",
       "</table>\n",
       "</div>"
      ],
      "text/plain": [
       "                                                text  target  _len_text\n",
       "0  Our Deeds are the Reason of this #earthquake M...       1         69\n",
       "1             Forest fire near La Ronge Sask. Canada       1         38\n",
       "2  All residents asked to 'shelter in place' are ...       1        133\n",
       "3  13,000 people receive #wildfires evacuation or...       1         65\n",
       "4  Just got sent this photo from Ruby #Alaska as ...       1         88"
      ]
     },
     "execution_count": 308,
     "metadata": {},
     "output_type": "execute_result"
    }
   ],
   "source": [
    "df[\"_len_text\"] = tmp\n",
    "df.head()"
   ]
  },
  {
   "cell_type": "markdown",
   "id": "2d8c7cdc-96a3-4c4e-a868-b44a4f8ea5f5",
   "metadata": {},
   "source": [
    "Analyse multivarié"
   ]
  },
  {
   "cell_type": "code",
   "execution_count": 195,
   "id": "e1adf995-962f-4a36-a4d2-81762d4176e3",
   "metadata": {},
   "outputs": [
    {
     "data": {
      "text/html": [
       "<div>\n",
       "<style scoped>\n",
       "    .dataframe tbody tr th:only-of-type {\n",
       "        vertical-align: middle;\n",
       "    }\n",
       "\n",
       "    .dataframe tbody tr th {\n",
       "        vertical-align: top;\n",
       "    }\n",
       "\n",
       "    .dataframe thead th {\n",
       "        text-align: right;\n",
       "    }\n",
       "</style>\n",
       "<table border=\"1\" class=\"dataframe\">\n",
       "  <thead>\n",
       "    <tr style=\"text-align: right;\">\n",
       "      <th></th>\n",
       "      <th>target</th>\n",
       "      <th>_len_text</th>\n",
       "    </tr>\n",
       "  </thead>\n",
       "  <tbody>\n",
       "    <tr>\n",
       "      <th>target</th>\n",
       "      <td>1.000000</td>\n",
       "      <td>0.180997</td>\n",
       "    </tr>\n",
       "    <tr>\n",
       "      <th>_len_text</th>\n",
       "      <td>0.180997</td>\n",
       "      <td>1.000000</td>\n",
       "    </tr>\n",
       "  </tbody>\n",
       "</table>\n",
       "</div>"
      ],
      "text/plain": [
       "             target  _len_text\n",
       "target     1.000000   0.180997\n",
       "_len_text  0.180997   1.000000"
      ]
     },
     "execution_count": 195,
     "metadata": {},
     "output_type": "execute_result"
    }
   ],
   "source": [
    "cols = [\"target\", \"_len_text\"]\n",
    "df = df[cols]\n",
    "\n",
    "corr = df.corr()\n",
    "corr"
   ]
  },
  {
   "cell_type": "markdown",
   "id": "e88760fb-80e7-4c95-b066-eca19eea641b",
   "metadata": {},
   "source": [
    "##### mask = np.zeros_like(corr)\n",
    "mask[np.triu_indices_from(mask)] = True\n",
    "fig, ax = plt.subplots(1, 1, figsize=(7, 5))\n",
    "\n",
    "fig, ax = plt.subplots(1,1, figsize=(7, 5))\n",
    "ax = sns.heatmap(corr, mask=mask, vmin=-1, vmax=1, cmap=\"coolwarm\", annot=True, square=True)\n"
   ]
  },
  {
   "cell_type": "code",
   "execution_count": 215,
   "id": "46851ff5-b3de-4691-889e-36ca6110c0fb",
   "metadata": {},
   "outputs": [
    {
     "data": {
      "text/plain": [
       "<seaborn.axisgrid.PairGrid at 0x191db7dd820>"
      ]
     },
     "execution_count": 215,
     "metadata": {},
     "output_type": "execute_result"
    },
    {
     "data": {
      "image/png": "[encoded data removed]",
      "text/plain": [
       "<Figure size 500x500 with 6 Axes>"
      ]
     },
     "metadata": {},
     "output_type": "display_data"
    }
   ],
   "source": [
    "sns.pairplot(df)"
   ]
  },
  {
   "cell_type": "code",
   "execution_count": 217,
   "id": "e5caa505-4757-4dbd-9ed1-8e59c49be2c4",
   "metadata": {},
   "outputs": [
    {
     "data": {
      "text/plain": [
       "<seaborn.axisgrid.PairGrid at 0x191dbbabe60>"
      ]
     },
     "execution_count": 217,
     "metadata": {},
     "output_type": "execute_result"
    },
    {
     "data": {
      "image/png": "[encoded data removed]",
      "text/plain": [
       "<Figure size 304.847x250 with 2 Axes>"
      ]
     },
     "metadata": {},
     "output_type": "display_data"
    }
   ],
   "source": [
    "sns.pairplot(df, hue=\"target\")"
   ]
  },
  {
   "cell_type": "code",
   "execution_count": 229,
   "id": "54a0db48-268b-4e56-9af2-08b0f5939c39",
   "metadata": {},
   "outputs": [
    {
     "data": {
      "text/html": [
       "<div>\n",
       "<style scoped>\n",
       "    .dataframe tbody tr th:only-of-type {\n",
       "        vertical-align: middle;\n",
       "    }\n",
       "\n",
       "    .dataframe tbody tr th {\n",
       "        vertical-align: top;\n",
       "    }\n",
       "\n",
       "    .dataframe thead th {\n",
       "        text-align: right;\n",
       "    }\n",
       "</style>\n",
       "<table border=\"1\" class=\"dataframe\">\n",
       "  <thead>\n",
       "    <tr style=\"text-align: right;\">\n",
       "      <th></th>\n",
       "      <th>target</th>\n",
       "      <th>_len_text</th>\n",
       "    </tr>\n",
       "  </thead>\n",
       "  <tbody>\n",
       "    <tr>\n",
       "      <th>4890</th>\n",
       "      <td>0</td>\n",
       "      <td>7</td>\n",
       "    </tr>\n",
       "    <tr>\n",
       "      <th>5115</th>\n",
       "      <td>0</td>\n",
       "      <td>7</td>\n",
       "    </tr>\n",
       "    <tr>\n",
       "      <th>1882</th>\n",
       "      <td>0</td>\n",
       "      <td>7</td>\n",
       "    </tr>\n",
       "    <tr>\n",
       "      <th>4971</th>\n",
       "      <td>0</td>\n",
       "      <td>8</td>\n",
       "    </tr>\n",
       "    <tr>\n",
       "      <th>24</th>\n",
       "      <td>0</td>\n",
       "      <td>8</td>\n",
       "    </tr>\n",
       "    <tr>\n",
       "      <th>3670</th>\n",
       "      <td>0</td>\n",
       "      <td>8</td>\n",
       "    </tr>\n",
       "    <tr>\n",
       "      <th>30</th>\n",
       "      <td>0</td>\n",
       "      <td>8</td>\n",
       "    </tr>\n",
       "    <tr>\n",
       "      <th>28</th>\n",
       "      <td>0</td>\n",
       "      <td>9</td>\n",
       "    </tr>\n",
       "    <tr>\n",
       "      <th>3667</th>\n",
       "      <td>0</td>\n",
       "      <td>9</td>\n",
       "    </tr>\n",
       "    <tr>\n",
       "      <th>6705</th>\n",
       "      <td>0</td>\n",
       "      <td>10</td>\n",
       "    </tr>\n",
       "  </tbody>\n",
       "</table>\n",
       "</div>"
      ],
      "text/plain": [
       "      target  _len_text\n",
       "4890       0          7\n",
       "5115       0          7\n",
       "1882       0          7\n",
       "4971       0          8\n",
       "24         0          8\n",
       "3670       0          8\n",
       "30         0          8\n",
       "28         0          9\n",
       "3667       0          9\n",
       "6705       0         10"
      ]
     },
     "execution_count": 229,
     "metadata": {},
     "output_type": "execute_result"
    }
   ],
   "source": [
    "df.sort_values(\"_len_text\").head(10)"
   ]
  },
  {
   "cell_type": "code",
   "execution_count": 231,
   "id": "5bb6361c-491f-4d23-af9c-a777396619fd",
   "metadata": {},
   "outputs": [
    {
     "data": {
      "text/html": [
       "<div>\n",
       "<style scoped>\n",
       "    .dataframe tbody tr th:only-of-type {\n",
       "        vertical-align: middle;\n",
       "    }\n",
       "\n",
       "    .dataframe tbody tr th {\n",
       "        vertical-align: top;\n",
       "    }\n",
       "\n",
       "    .dataframe thead th {\n",
       "        text-align: right;\n",
       "    }\n",
       "</style>\n",
       "<table border=\"1\" class=\"dataframe\">\n",
       "  <thead>\n",
       "    <tr style=\"text-align: right;\">\n",
       "      <th></th>\n",
       "      <th>target</th>\n",
       "      <th>_len_text</th>\n",
       "    </tr>\n",
       "  </thead>\n",
       "  <tbody>\n",
       "    <tr>\n",
       "      <th>261</th>\n",
       "      <td>0</td>\n",
       "      <td>148</td>\n",
       "    </tr>\n",
       "    <tr>\n",
       "      <th>2301</th>\n",
       "      <td>0</td>\n",
       "      <td>148</td>\n",
       "    </tr>\n",
       "    <tr>\n",
       "      <th>6945</th>\n",
       "      <td>1</td>\n",
       "      <td>148</td>\n",
       "    </tr>\n",
       "    <tr>\n",
       "      <th>257</th>\n",
       "      <td>1</td>\n",
       "      <td>148</td>\n",
       "    </tr>\n",
       "    <tr>\n",
       "      <th>2718</th>\n",
       "      <td>1</td>\n",
       "      <td>149</td>\n",
       "    </tr>\n",
       "    <tr>\n",
       "      <th>635</th>\n",
       "      <td>1</td>\n",
       "      <td>150</td>\n",
       "    </tr>\n",
       "    <tr>\n",
       "      <th>633</th>\n",
       "      <td>1</td>\n",
       "      <td>150</td>\n",
       "    </tr>\n",
       "    <tr>\n",
       "      <th>614</th>\n",
       "      <td>1</td>\n",
       "      <td>151</td>\n",
       "    </tr>\n",
       "    <tr>\n",
       "      <th>4801</th>\n",
       "      <td>0</td>\n",
       "      <td>152</td>\n",
       "    </tr>\n",
       "    <tr>\n",
       "      <th>1270</th>\n",
       "      <td>0</td>\n",
       "      <td>157</td>\n",
       "    </tr>\n",
       "  </tbody>\n",
       "</table>\n",
       "</div>"
      ],
      "text/plain": [
       "      target  _len_text\n",
       "261        0        148\n",
       "2301       0        148\n",
       "6945       1        148\n",
       "257        1        148\n",
       "2718       1        149\n",
       "635        1        150\n",
       "633        1        150\n",
       "614        1        151\n",
       "4801       0        152\n",
       "1270       0        157"
      ]
     },
     "execution_count": 231,
     "metadata": {},
     "output_type": "execute_result"
    }
   ],
   "source": [
    "df.sort_values(\"_len_text\").tail(10)"
   ]
  },
  {
   "cell_type": "code",
   "execution_count": 313,
   "id": "8fc9c9a9-461f-48af-826b-79f38cd45225",
   "metadata": {},
   "outputs": [
    {
     "data": {
      "text/html": [
       "<div>\n",
       "<style scoped>\n",
       "    .dataframe tbody tr th:only-of-type {\n",
       "        vertical-align: middle;\n",
       "    }\n",
       "\n",
       "    .dataframe tbody tr th {\n",
       "        vertical-align: top;\n",
       "    }\n",
       "\n",
       "    .dataframe thead th {\n",
       "        text-align: right;\n",
       "    }\n",
       "</style>\n",
       "<table border=\"1\" class=\"dataframe\">\n",
       "  <thead>\n",
       "    <tr style=\"text-align: right;\">\n",
       "      <th></th>\n",
       "      <th>text</th>\n",
       "      <th>target</th>\n",
       "    </tr>\n",
       "  </thead>\n",
       "  <tbody>\n",
       "    <tr>\n",
       "      <th>0</th>\n",
       "      <td>Our Deeds are the Reason of this #earthquake M...</td>\n",
       "      <td>1</td>\n",
       "    </tr>\n",
       "    <tr>\n",
       "      <th>1</th>\n",
       "      <td>Forest fire near La Ronge Sask. Canada</td>\n",
       "      <td>1</td>\n",
       "    </tr>\n",
       "    <tr>\n",
       "      <th>2</th>\n",
       "      <td>All residents asked to 'shelter in place' are ...</td>\n",
       "      <td>1</td>\n",
       "    </tr>\n",
       "    <tr>\n",
       "      <th>3</th>\n",
       "      <td>13,000 people receive #wildfires evacuation or...</td>\n",
       "      <td>1</td>\n",
       "    </tr>\n",
       "    <tr>\n",
       "      <th>4</th>\n",
       "      <td>Just got sent this photo from Ruby #Alaska as ...</td>\n",
       "      <td>1</td>\n",
       "    </tr>\n",
       "  </tbody>\n",
       "</table>\n",
       "</div>"
      ],
      "text/plain": [
       "                                                text  target\n",
       "0  Our Deeds are the Reason of this #earthquake M...       1\n",
       "1             Forest fire near La Ronge Sask. Canada       1\n",
       "2  All residents asked to 'shelter in place' are ...       1\n",
       "3  13,000 people receive #wildfires evacuation or...       1\n",
       "4  Just got sent this photo from Ruby #Alaska as ...       1"
      ]
     },
     "execution_count": 313,
     "metadata": {},
     "output_type": "execute_result"
    }
   ],
   "source": [
    "df.drop(columns=\"_len_text\", inplace=True)\n",
    "df.head()"
   ]
  },
  {
   "cell_type": "markdown",
   "id": "27ac653b-eb72-471c-8bf0-d772edacc589",
   "metadata": {},
   "source": [
    "Exploration de documents et corpus"
   ]
  },
  {
   "cell_type": "code",
   "execution_count": 316,
   "id": "934d7c70-cdb3-487d-a0e1-c4d4e26c4968",
   "metadata": {},
   "outputs": [
    {
     "data": {
      "text/html": [
       "<div>\n",
       "<style scoped>\n",
       "    .dataframe tbody tr th:only-of-type {\n",
       "        vertical-align: middle;\n",
       "    }\n",
       "\n",
       "    .dataframe tbody tr th {\n",
       "        vertical-align: top;\n",
       "    }\n",
       "\n",
       "    .dataframe thead th {\n",
       "        text-align: right;\n",
       "    }\n",
       "</style>\n",
       "<table border=\"1\" class=\"dataframe\">\n",
       "  <thead>\n",
       "    <tr style=\"text-align: right;\">\n",
       "      <th></th>\n",
       "      <th>text</th>\n",
       "      <th>target</th>\n",
       "    </tr>\n",
       "  </thead>\n",
       "  <tbody>\n",
       "    <tr>\n",
       "      <th>6760</th>\n",
       "      <td>@kunalkapoor Photo of the Day: Storm\\nChaser\\n...</td>\n",
       "      <td>1</td>\n",
       "    </tr>\n",
       "    <tr>\n",
       "      <th>704</th>\n",
       "      <td>@__srajapakse__ Why thank you there missy ?? t...</td>\n",
       "      <td>0</td>\n",
       "    </tr>\n",
       "    <tr>\n",
       "      <th>6892</th>\n",
       "      <td>@wrongdejavu I'm traumatised</td>\n",
       "      <td>0</td>\n",
       "    </tr>\n",
       "    <tr>\n",
       "      <th>6076</th>\n",
       "      <td>@DavidCovucci We can't because a sinkhole swal...</td>\n",
       "      <td>0</td>\n",
       "    </tr>\n",
       "    <tr>\n",
       "      <th>854</th>\n",
       "      <td>Blood Group  A +ve is associated with Gastric ...</td>\n",
       "      <td>0</td>\n",
       "    </tr>\n",
       "    <tr>\n",
       "      <th>6256</th>\n",
       "      <td>@PrablematicLA @Adweek I'm actually currently ...</td>\n",
       "      <td>1</td>\n",
       "    </tr>\n",
       "    <tr>\n",
       "      <th>7480</th>\n",
       "      <td>Ranking #artectura #pop2015 #Nå¼36 Florence + ...</td>\n",
       "      <td>0</td>\n",
       "    </tr>\n",
       "    <tr>\n",
       "      <th>4210</th>\n",
       "      <td>@ArianaGrande  Girl you still lickin' public d...</td>\n",
       "      <td>0</td>\n",
       "    </tr>\n",
       "    <tr>\n",
       "      <th>5263</th>\n",
       "      <td>National Briefing | West: California: Spring O...</td>\n",
       "      <td>1</td>\n",
       "    </tr>\n",
       "    <tr>\n",
       "      <th>4529</th>\n",
       "      <td>Unlicensed teen driver among 2 killed in NC cr...</td>\n",
       "      <td>1</td>\n",
       "    </tr>\n",
       "    <tr>\n",
       "      <th>683</th>\n",
       "      <td>Morgan Silver Dollar 1880 S Gem BU DMPL Cameo ...</td>\n",
       "      <td>0</td>\n",
       "    </tr>\n",
       "    <tr>\n",
       "      <th>6493</th>\n",
       "      <td>Its like I never left. I just sunk to the back...</td>\n",
       "      <td>0</td>\n",
       "    </tr>\n",
       "    <tr>\n",
       "      <th>6615</th>\n",
       "      <td>OMEGA MEN Writer Explores Terrorism Religion I...</td>\n",
       "      <td>0</td>\n",
       "    </tr>\n",
       "    <tr>\n",
       "      <th>130</th>\n",
       "      <td>@OnFireAnders I love you bb</td>\n",
       "      <td>0</td>\n",
       "    </tr>\n",
       "    <tr>\n",
       "      <th>2240</th>\n",
       "      <td>Tomorrow is Internet Day. It has been almost 2...</td>\n",
       "      <td>0</td>\n",
       "    </tr>\n",
       "    <tr>\n",
       "      <th>3924</th>\n",
       "      <td>2pcs 18W CREE Led Work Light  Offroad Lamp Car...</td>\n",
       "      <td>1</td>\n",
       "    </tr>\n",
       "    <tr>\n",
       "      <th>3102</th>\n",
       "      <td>So I had my phone charging and lightening stru...</td>\n",
       "      <td>0</td>\n",
       "    </tr>\n",
       "    <tr>\n",
       "      <th>2253</th>\n",
       "      <td>Why are you deluged with low self-image? Take ...</td>\n",
       "      <td>0</td>\n",
       "    </tr>\n",
       "    <tr>\n",
       "      <th>5547</th>\n",
       "      <td>Wow what beauty lies within every storm. Taken...</td>\n",
       "      <td>1</td>\n",
       "    </tr>\n",
       "    <tr>\n",
       "      <th>2522</th>\n",
       "      <td>going to redo my nails and watch behind the sc...</td>\n",
       "      <td>1</td>\n",
       "    </tr>\n",
       "  </tbody>\n",
       "</table>\n",
       "</div>"
      ],
      "text/plain": [
       "                                                   text  target\n",
       "6760  @kunalkapoor Photo of the Day: Storm\\nChaser\\n...       1\n",
       "704   @__srajapakse__ Why thank you there missy ?? t...       0\n",
       "6892                       @wrongdejavu I'm traumatised       0\n",
       "6076  @DavidCovucci We can't because a sinkhole swal...       0\n",
       "854   Blood Group  A +ve is associated with Gastric ...       0\n",
       "6256  @PrablematicLA @Adweek I'm actually currently ...       1\n",
       "7480  Ranking #artectura #pop2015 #Nå¼36 Florence + ...       0\n",
       "4210  @ArianaGrande  Girl you still lickin' public d...       0\n",
       "5263  National Briefing | West: California: Spring O...       1\n",
       "4529  Unlicensed teen driver among 2 killed in NC cr...       1\n",
       "683   Morgan Silver Dollar 1880 S Gem BU DMPL Cameo ...       0\n",
       "6493  Its like I never left. I just sunk to the back...       0\n",
       "6615  OMEGA MEN Writer Explores Terrorism Religion I...       0\n",
       "130                         @OnFireAnders I love you bb       0\n",
       "2240  Tomorrow is Internet Day. It has been almost 2...       0\n",
       "3924  2pcs 18W CREE Led Work Light  Offroad Lamp Car...       1\n",
       "3102  So I had my phone charging and lightening stru...       0\n",
       "2253  Why are you deluged with low self-image? Take ...       0\n",
       "5547  Wow what beauty lies within every storm. Taken...       1\n",
       "2522  going to redo my nails and watch behind the sc...       1"
      ]
     },
     "execution_count": 316,
     "metadata": {},
     "output_type": "execute_result"
    }
   ],
   "source": [
    "df_samp = df.sample(20)\n",
    "df_samp"
   ]
  },
  {
   "cell_type": "code",
   "execution_count": 318,
   "id": "e5e23114-8cc0-449b-b7c5-38939cb3286f",
   "metadata": {},
   "outputs": [
    {
     "name": "stdout",
     "output_type": "stream",
     "text": [
      "@kunalkapoor Photo of the Day: Storm\n",
      "Chaser\n",
      "http://t.co/4WJy7seHmw\n",
      "#photography #pod\n",
      "@__srajapakse__ Why thank you there missy ?? thought it suited the blazing hot summertime ?? yee-haw! ??\n",
      "@wrongdejavu I'm traumatised\n",
      "@DavidCovucci We can't because a sinkhole swallowed every taco place in the neighborhood\n",
      "Blood Group  A +ve is associated with Gastric Carcinoma says text book...Another fragile gene in my body....\n",
      "@PrablematicLA @Adweek I'm actually currently dressed for a snowstorm...despite being in the middle of a Texas summer. Thanks office A/C.\n",
      "Ranking #artectura #pop2015 #Nå¼36 Florence + The Machine - Ship To Wreck https://t.co/9LE0B19lVF  #music #playlist #YouTube\n",
      "@ArianaGrande  Girl you still lickin' public donuts???  Health hazard....u should be in jail.\n",
      "National Briefing | West: California: Spring Oil Spill Estimate Grows: Documents released on Wednesday d... http://t.co/hTxAi05y7B (NYT)\n",
      "Unlicensed teen driver among 2 killed in NC crash http://t.co/Woc6AkEHYX\n",
      "Morgan Silver Dollar 1880 S Gem BU DMPL Cameo Rev Blazing MS+++++ High grade! - Full read Û_ http://t.co/m96KbQwiOr http://t.co/wrJR846fKS\n",
      "Its like I never left. I just sunk to the background\n",
      "OMEGA MEN Writer Explores Terrorism Religion In an 'Epic KYLE RAYNER Story' http://t.co/Hr88CWxPGz #Newsarama\n",
      "@OnFireAnders I love you bb\n",
      "Tomorrow is Internet Day. It has been almost 2 months. I look forward* to the deluge of stuff I've been avoiding.   *a downright lie\n",
      "2pcs 18W CREE Led Work Light  Offroad Lamp Car Truck Boat Mining 4WD FLOOD BEAM - Full reaÛ_ http://t.co/ApWXS5Mm44 http://t.co/DS76loZLSu\n",
      "So I had my phone charging and lightening struck in my backyard and I was holding my phone and it electrocuted my hand???? hurts so bad man??\n",
      "Why are you deluged with low self-image? Take the quiz: http://t.co/1PFlM532mG http://t.co/58qruGZvg0\n",
      "Wow what beauty lies within every storm. Taken today after a rainstorm at A&amp;B Pipeliners http://t.co/pSt5bBQ0av\n",
      "going to redo my nails and watch behind the scenes of desolation of smaug ayyy\n"
     ]
    }
   ],
   "source": [
    "for idx, ser in df_samp.iterrows() :\n",
    "    print(ser[\"text\"])"
   ]
  },
  {
   "cell_type": "code",
   "execution_count": 322,
   "id": "61d99b82-d0b5-45d2-b270-bc588169dc9b",
   "metadata": {},
   "outputs": [
    {
     "name": "stdout",
     "output_type": "stream",
     "text": [
      "target : 1\n",
      "@kunalkapoor Photo of the Day: Storm\n",
      "Chaser\n",
      "http://t.co/4WJy7seHmw\n",
      "#photography #pod....\n",
      "\n",
      "\n",
      "target : 0\n",
      "@__srajapakse__ Why thank you there missy ?? thought it suited the blazing hot summertime ?? yee-haw! ??....\n",
      "\n",
      "\n",
      "target : 0\n",
      "@wrongdejavu I'm traumatised....\n",
      "\n",
      "\n",
      "target : 0\n",
      "@DavidCovucci We can't because a sinkhole swallowed every taco place in the neighborhood....\n",
      "\n",
      "\n",
      "target : 0\n",
      "Blood Group  A +ve is associated with Gastric Carcinoma says text book...Another fragile gene in my body........\n",
      "\n",
      "\n",
      "target : 1\n",
      "@PrablematicLA @Adweek I'm actually currently dressed for a snowstorm...despite being in the middle of a Texas summer. Thanks office A/C.....\n",
      "\n",
      "\n",
      "target : 0\n",
      "Ranking #artectura #pop2015 #Nå¼36 Florence + The Machine - Ship To Wreck https://t.co/9LE0B19lVF  #music #playlist #YouTube....\n",
      "\n",
      "\n",
      "target : 0\n",
      "@ArianaGrande  Girl you still lickin' public donuts???  Health hazard....u should be in jail.....\n",
      "\n",
      "\n",
      "target : 1\n",
      "National Briefing | West: California: Spring Oil Spill Estimate Grows: Documents released on Wednesday d... http://t.co/hTxAi05y7B (NYT)....\n",
      "\n",
      "\n",
      "target : 1\n",
      "Unlicensed teen driver among 2 killed in NC crash http://t.co/Woc6AkEHYX....\n",
      "\n",
      "\n",
      "target : 0\n",
      "Morgan Silver Dollar 1880 S Gem BU DMPL Cameo Rev Blazing MS+++++ High grade! - Full read Û_ http://t.co/m96KbQwiOr http://t.co/wrJR846fKS....\n",
      "\n",
      "\n",
      "target : 0\n",
      "Its like I never left. I just sunk to the background....\n",
      "\n",
      "\n",
      "target : 0\n",
      "OMEGA MEN Writer Explores Terrorism Religion In an 'Epic KYLE RAYNER Story' http://t.co/Hr88CWxPGz #Newsarama....\n",
      "\n",
      "\n",
      "target : 0\n",
      "@OnFireAnders I love you bb....\n",
      "\n",
      "\n",
      "target : 0\n",
      "Tomorrow is Internet Day. It has been almost 2 months. I look forward* to the deluge of stuff I've been avoiding.   *a downright lie....\n",
      "\n",
      "\n",
      "target : 1\n",
      "2pcs 18W CREE Led Work Light  Offroad Lamp Car Truck Boat Mining 4WD FLOOD BEAM - Full reaÛ_ http://t.co/ApWXS5Mm44 http://t.co/DS76loZLSu....\n",
      "\n",
      "\n",
      "target : 0\n",
      "So I had my phone charging and lightening struck in my backyard and I was holding my phone and it electrocuted my hand???? hurts so bad man??....\n",
      "\n",
      "\n",
      "target : 0\n",
      "Why are you deluged with low self-image? Take the quiz: http://t.co/1PFlM532mG http://t.co/58qruGZvg0....\n",
      "\n",
      "\n",
      "target : 1\n",
      "Wow what beauty lies within every storm. Taken today after a rainstorm at A&amp;B Pipeliners http://t.co/pSt5bBQ0av....\n",
      "\n",
      "\n",
      "target : 1\n",
      "going to redo my nails and watch behind the scenes of desolation of smaug ayyy....\n",
      "\n",
      "\n"
     ]
    }
   ],
   "source": [
    "for idx, ser in df_samp.iterrows() :\n",
    "    txt_1 = f\"target : {ser['target']}\\n\"\n",
    "    print(txt_1 + ser['text']+\"....\" + \"\\n\\n\")"
   ]
  },
  {
   "cell_type": "code",
   "execution_count": 324,
   "id": "b4f686de-b578-4118-8e82-ec7e7f3f0a2b",
   "metadata": {},
   "outputs": [],
   "source": [
    "def print_sample(sub_df, n_samp=10) :\n",
    "    \"\"\"print out n_samp documents from a corpus\"\"\"\n",
    "    samp = sub_df.sample(n_samp)\n",
    "    for idx, ser  in  samp.iterrows():\n",
    "         txt_1 = f\"target : {ser['target']}\\n\"\n",
    "    print(txt_1 + ser['text']+\"....\" + \"\\n\\n\")\n",
    "        "
   ]
  },
  {
   "cell_type": "code",
   "execution_count": 326,
   "id": "a99c4639-1cf0-4081-b8ef-895bb70205e7",
   "metadata": {},
   "outputs": [
    {
     "data": {
      "text/html": [
       "<div>\n",
       "<style scoped>\n",
       "    .dataframe tbody tr th:only-of-type {\n",
       "        vertical-align: middle;\n",
       "    }\n",
       "\n",
       "    .dataframe tbody tr th {\n",
       "        vertical-align: top;\n",
       "    }\n",
       "\n",
       "    .dataframe thead th {\n",
       "        text-align: right;\n",
       "    }\n",
       "</style>\n",
       "<table border=\"1\" class=\"dataframe\">\n",
       "  <thead>\n",
       "    <tr style=\"text-align: right;\">\n",
       "      <th></th>\n",
       "      <th>text</th>\n",
       "      <th>target</th>\n",
       "    </tr>\n",
       "  </thead>\n",
       "  <tbody>\n",
       "    <tr>\n",
       "      <th>0</th>\n",
       "      <td>Our Deeds are the Reason of this #earthquake M...</td>\n",
       "      <td>1</td>\n",
       "    </tr>\n",
       "    <tr>\n",
       "      <th>1</th>\n",
       "      <td>Forest fire near La Ronge Sask. Canada</td>\n",
       "      <td>1</td>\n",
       "    </tr>\n",
       "    <tr>\n",
       "      <th>2</th>\n",
       "      <td>All residents asked to 'shelter in place' are ...</td>\n",
       "      <td>1</td>\n",
       "    </tr>\n",
       "    <tr>\n",
       "      <th>3</th>\n",
       "      <td>13,000 people receive #wildfires evacuation or...</td>\n",
       "      <td>1</td>\n",
       "    </tr>\n",
       "    <tr>\n",
       "      <th>4</th>\n",
       "      <td>Just got sent this photo from Ruby #Alaska as ...</td>\n",
       "      <td>1</td>\n",
       "    </tr>\n",
       "  </tbody>\n",
       "</table>\n",
       "</div>"
      ],
      "text/plain": [
       "                                                text  target\n",
       "0  Our Deeds are the Reason of this #earthquake M...       1\n",
       "1             Forest fire near La Ronge Sask. Canada       1\n",
       "2  All residents asked to 'shelter in place' are ...       1\n",
       "3  13,000 people receive #wildfires evacuation or...       1\n",
       "4  Just got sent this photo from Ruby #Alaska as ...       1"
      ]
     },
     "execution_count": 326,
     "metadata": {},
     "output_type": "execute_result"
    }
   ],
   "source": [
    "df_1 = df[df.target == 1]\n",
    "df_1.head()"
   ]
  },
  {
   "cell_type": "code",
   "execution_count": 340,
   "id": "13081a88-bf15-4e2e-8bdf-b98212fca021",
   "metadata": {},
   "outputs": [
    {
     "name": "stdout",
     "output_type": "stream",
     "text": [
      "target : 1\n",
      "Beach did damage to my shit....\n",
      "\n",
      "\n"
     ]
    }
   ],
   "source": [
    "print_sample(df_1)"
   ]
  },
  {
   "cell_type": "code",
   "execution_count": null,
   "id": "603dc32a-3cfd-41f0-8734-fc47b6aef963",
   "metadata": {},
   "outputs": [],
   "source": []
  }
 ],
 "metadata": {
  "kernelspec": {
   "display_name": "Python 3 (ipykernel)",
   "language": "python",
   "name": "python3"
  },
  "language_info": {
   "codemirror_mode": {
    "name": "ipython",
    "version": 3
   },
   "file_extension": ".py",
   "mimetype": "text/x-python",
   "name": "python",
   "nbconvert_exporter": "python",
   "pygments_lexer": "ipython3",
   "version": "3.12.4"
  }
 },
 "nbformat": 4,
 "nbformat_minor": 5
}
